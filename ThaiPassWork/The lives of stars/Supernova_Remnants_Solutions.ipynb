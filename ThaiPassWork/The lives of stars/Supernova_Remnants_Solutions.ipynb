{
 "cells": [
  {
   "cell_type": "markdown",
   "id": "6c99fcfb",
   "metadata": {},
   "source": [
    "# Supernova Remnants Notebook\n",
    "\n",
    "### Task 1\n",
    "In this task you will plot the analytical solutions for the Sedov-Taylor phase of the evolution of a supernova remnant.\n",
    "\n",
    "First load the modules you will need (numpy and matplotlib)."
   ]
  },
  {
   "cell_type": "code",
   "execution_count": 17,
   "id": "1d1cfa8d",
   "metadata": {},
   "outputs": [],
   "source": [
    "import numpy as np\n",
    "import matplotlib.pyplot as plt"
   ]
  },
  {
   "cell_type": "markdown",
   "id": "90cdd102",
   "metadata": {},
   "source": [
    "To calculate these quantities correctly we need to make sure all values are using the same system of units. Here we are using cgs (centimetres, grams, seconds).\n",
    "To input and output the values it makes more sense to have them in units more suited to astronomy, to make them easier to read.\n",
    "\n",
    "Define some constants that can be multiplied by the output values so we can print them out in useful units.\n",
    "\n",
    "For example, time will be calculated in seconds but it is more useful for us to output it in years, or Megayears. \n",
    "So we can define:\n",
    "\n",
    "$yeartosec = 60 \\times 60 \\times 24 \\times 365.25$\n",
    "\n",
    "Then multiply this by the output to ensure the time we are reading is printed in years. \n",
    "\n",
    "Lengths will be calculated in $cm$ - but we want them in $pc$.\n",
    "\n",
    "Velocities will be calculated in $cm/s$ - but we want them in $km/s$.\n",
    "\n",
    "Masses will be calculated in grams - but we want them in solar masses. "
   ]
  },
  {
   "cell_type": "code",
   "execution_count": 18,
   "id": "b34ab016",
   "metadata": {},
   "outputs": [],
   "source": [
    "#Convert years to seconds\n",
    "yeartosec = 60 * 60 * 24 *365.25\n",
    "#Convert parsec to centimetres\n",
    "pctocm = 3.086E18\n",
    "#Convert centimetres to kilometres per second for velocity\n",
    "cmtokm = 1.0E5\n",
    "#Convert solar masses to grams\n",
    "sol2gram = 1.989E33"
   ]
  },
  {
   "cell_type": "markdown",
   "id": "1e2b699e",
   "metadata": {},
   "source": [
    "Now we need to define some constant values such as the explosion energy and ambient density of the surrounding *ISM (interstellar medium)*. \n",
    "\n",
    "Ambient density = 1.E-26   (units = $g /{cm}^3$)\n",
    "\n",
    "Explosion energy = 1.E51 (units = $erg$)\n",
    "\n",
    "(These are both in cgs units so they don't need to be converted)\n",
    "\n",
    "We should also define the mass of the ejected stellar material. For a type II supnernova this would be above 8M$_{\\odot}$, for a type Ia supernova it would be much lower as the white dwarf has already blown all of the external stellar material away. We could estimate it to be below 1M$_{\\odot}$ in this case. \n",
    "Remember the mass will need to be converted into cgs!"
   ]
  },
  {
   "cell_type": "code",
   "execution_count": 19,
   "id": "6e2df998",
   "metadata": {},
   "outputs": [],
   "source": [
    "#Ambient density (ISM) in cgs                                                                                                                                                                                                  \n",
    "rho_ambient = 1.E-26\n",
    "#Explosion energy in cgs\n",
    "E_SN = 1.E51\n",
    "# Ejected mass                                                                                                                                                                                 \n",
    "M_ejecta = 1.* sol2gram"
   ]
  },
  {
   "cell_type": "markdown",
   "id": "0c6f79bb",
   "metadata": {},
   "source": [
    "We are going to be calculating the radius and velocity of the expanding shell during the Sedov-Taylor (ST) phase of the evolution of the SNR. \n",
    "To get the initial values for the velocity and radius of the swept up shell for the ST phase, we can estimate the velocity at the end of the free expansion phase.\n",
    "\n",
    "Work out the initial velocity of the ejected stellar material using the equation below, assuming the explosion energy is converted to kinetic energy. \n",
    "\n",
    "### $E_{SN}$ = $\\frac{1}{2} M_{e}v_{e}^2$"
   ]
  },
  {
   "cell_type": "code",
   "execution_count": 20,
   "id": "387aa177",
   "metadata": {},
   "outputs": [
    {
     "name": "stdout",
     "output_type": "stream",
     "text": [
      "Initial velocity of the ejected material: 10027.61 km/s\n"
     ]
    }
   ],
   "source": [
    "v_ejecta = (2. * E_SN /\tM_ejecta)**(1./2.)\n",
    "print(\"Initial velocity of the ejected material: %.2f\" % (v_ejecta/cmtokm), \"km/s\")"
   ]
  },
  {
   "cell_type": "markdown",
   "id": "d51f5b55",
   "metadata": {},
   "source": [
    "### Task 2\n",
    "\n",
    "Next we can work out the shell radius (in parsec) at the end of the free expansion phase, then the time it has taken (in years) to reach that radius. Use the equations below and assume the velocity in the free expansion phase is constant.\n",
    "\n",
    "$\\rho_{0}$ is the ambient density of the surrounding interstellar medium.\n",
    "\n",
    "### $R_{SW} = \\left(\\frac{3M_{e}}{4\\pi\\rho_{0}}\\right)^{1/3}$\n",
    "\n",
    "### $t_{SW} = \\frac{R_{SW}}{v_{e}}$"
   ]
  },
  {
   "cell_type": "code",
   "execution_count": 21,
   "id": "296a3aaf",
   "metadata": {},
   "outputs": [
    {
     "name": "stdout",
     "output_type": "stream",
     "text": [
      "Radius at the end of the free expansion phase = 11.73 pc\n",
      "Time at the end of the free expansion phase = 1144.32 years\n"
     ]
    }
   ],
   "source": [
    "R_SW = (3. * M_ejecta /(4. * np.pi * rho_ambient))**(1./3.)\n",
    "t_SW = R_SW / v_ejecta\n",
    "print (\"Radius at the end of the free expansion phase = %.2f\" %(R_SW/pctocm), \"pc\")\n",
    "print (\"Time at the end of the free expansion phase = %.2f\" %(t_SW/yeartosec), \"years\")"
   ]
  },
  {
   "cell_type": "markdown",
   "id": "f154a2a9",
   "metadata": {},
   "source": [
    "### Task 3\n",
    "\n",
    "Now work out the radius and velocity of the expanding shell of gas as a function of time during the Sedov-Taylor phase (where the time starts at the end of the free expansion phase). \n",
    "\n",
    "### $R_{Sed}(t) = \\left(\\frac{25E_{SN}}{4\\pi\\rho_{0}}\\right)^{1/5}t^{2/5}$\n",
    "\n",
    "### $V_{Sed}(t) = \\frac{2}{5}\\left(\\frac{25E_{SN}}{4\\pi\\rho_{0}}\\right)^{1/5}t^{-3/5}$\n",
    "\n",
    "Remember to use cgs units for the values in your calculations, then convert back to more sensible values (i.e. parsec,  years and km/s) afterwards. "
   ]
  },
  {
   "cell_type": "code",
   "execution_count": 22,
   "id": "1f6cd6bb",
   "metadata": {},
   "outputs": [
    {
     "name": "stdout",
     "output_type": "stream",
     "text": [
      "Values after expansion in the Sedov-Taylor phase after 20 000 years:\n",
      "Radius = 49.02 pc\n",
      "Velocity = 958.97 km/s\n"
     ]
    }
   ],
   "source": [
    "t_start = 1144\n",
    "t_end = 20000 #years                                                                                                                                                                                                           \n",
    "\n",
    "\n",
    "#Define arrays\n",
    "R_sed =[]\n",
    "V_sed =[]\n",
    "t_sed =[]\n",
    "\n",
    "\n",
    "#Loop over time                                                                                                                                                                                                                \n",
    "for i in range(t_start, t_end, 10):\n",
    "    Time = i * yeartosec\n",
    "    t_sed.append(Time/yeartosec)\n",
    "    \n",
    "    Radius = ((25.  * E_SN)/(4. * np.pi * rho_ambient))**(1./5.) * (Time)**(2./5.)\n",
    "    R_sed.append(Radius/pctocm)\n",
    "    \n",
    "    Velocity = (2.0/5.0)*((25.0 * E_SN)/(4. * np.pi  * rho_ambient))**(1./5.) * Time**(-3./5.)\n",
    "    V_sed.append(Velocity/cmtokm)\n",
    "\n",
    "print (\"Values after expansion in the Sedov-Taylor phase after 20 000 years:\")\n",
    "print (\"Radius = %.2f\" % (R_sed[-1]), \"pc\")\n",
    "print (\"Velocity = %.2f\" %(V_sed[-1]), \"km/s\")"
   ]
  },
  {
   "cell_type": "markdown",
   "id": "88d5784b",
   "metadata": {},
   "source": [
    "Use the subplot function within matplotlib to create two plots showing the evolution of the shell radius with time and the shell velocity with time. \n",
    "\n",
    "Remember to add titles and axis labels."
   ]
  },
  {
   "cell_type": "code",
   "execution_count": 23,
   "id": "0c96b10b",
   "metadata": {},
   "outputs": [
    {
     "data": {
      "image/png": "[encoded data removed]",
      "text/plain": [
       "<Figure size 432x288 with 2 Axes>"
      ]
     },
     "metadata": {
      "needs_background": "light"
     },
     "output_type": "display_data"
    }
   ],
   "source": [
    "plt.subplot(2,2,1)\n",
    "plt.plot(t_sed, R_sed)\n",
    "plt.title('Radius')\n",
    "plt.ylabel('Radius (pc)')\n",
    "plt.xlabel('Time (years)')\n",
    "\n",
    "plt.subplot(2,2,2)\n",
    "plt.plot(t_sed, V_sed)\n",
    "plt.title('Velocity')\n",
    "plt.ylabel('Velocity (km/s)')\n",
    "plt.xlabel('Time (years)')\n",
    "\n",
    "plt.tight_layout()\n",
    "plt.show()"
   ]
  },
  {
   "cell_type": "markdown",
   "id": "8c26e609",
   "metadata": {},
   "source": [
    "### Task 4\n",
    "\n",
    "Now we can apply our estmations for the radius and velocity of a SNR to an observed SNR.\n",
    "\n",
    "The SNR Tycho has an age of 442 years and an ISM density, $\\rho_{0} = 3.34\\times10^{-25}$gcm$^{-3}$\n",
    "\n",
    "Using this information and the equations above, estimate the radius and velocity of the Tycho SNR (you can use the same supernova energy as earlier)."
   ]
  },
  {
   "cell_type": "code",
   "execution_count": 24,
   "id": "fb4ede63",
   "metadata": {},
   "outputs": [
    {
     "name": "stdout",
     "output_type": "stream",
     "text": [
      "Radius of Tycho SNR after 422 years in pc = 5.19 pc\n",
      "Velocity of Tycho SNR after 422 years = 4812.90 km/s\n"
     ]
    }
   ],
   "source": [
    "#Convert the time into seconds\n",
    "Time = 422 * yeartosec\n",
    "#The density is already in cgs so we do not need to convert it\n",
    "rho_ambient = 3.34e-25\n",
    "\n",
    "\n",
    "R_Tycho = ((25.  * E_SN)/(4. * np.pi * rho_ambient))**(1./5.) * (Time)**(2./5.)\n",
    "V_Tycho = (2.0/5.0)*((25.0 * E_SN)/(4. * np.pi  * rho_ambient))**(1./5.) * Time**(-3./5.)\n",
    "\n",
    "#Convert radius to pc and velocity to km/s as these units are more useful to us\n",
    "R_Tycho = R_Tycho / pctocm\n",
    "V_Tycho = V_Tycho / 1.e5\n",
    "print (\"Radius of Tycho SNR after 422 years in pc = %.2f\" % R_Tycho, \"pc\")\n",
    "print (\"Velocity of Tycho SNR after 422 years = %.2f\" % V_Tycho, \"km/s\")"
   ]
  },
  {
   "cell_type": "markdown",
   "id": "d327174c",
   "metadata": {},
   "source": [
    "The real radius of the Tycho SNR is 3.7pc and the shock velocity is around 4500km/s. \n",
    "So we can get close values with our very simple models!"
   ]
  },
  {
   "cell_type": "markdown",
   "id": "5d1a657f",
   "metadata": {},
   "source": [
    "### Task 5\n",
    "\n",
    "What elements are made in a core-collapse supernovae (CCSNe)? They are the main source of oxygen in nature! In this task you will read in the mass coordinates of the ejecta and the abundances from a real CCSN model (by Ritter et al. 2018, MNRAS - https://ui.adsabs.harvard.edu/abs/2018MNRAS.480..538R/abstract) for a progenitor of 15M$_{\\odot}$ and solar metallicity. Plot the abundances with respect to mass coordinate and calculate the ejected elements in solar masses.\n",
    "\n",
    "First, read in the date from the file 'm15z0p02_abundances_mass.txt'"
   ]
  },
  {
   "cell_type": "code",
   "execution_count": 11,
   "id": "2ca232ae",
   "metadata": {},
   "outputs": [],
   "source": [
    "# read file with SN 15Msun Z=0.02\n",
    "a=open('m15z0p02_abundances_mass.txt')\n",
    "header= a.readline()\n",
    "data=a.readlines()\n",
    "a.close()"
   ]
  },
  {
   "cell_type": "markdown",
   "id": "98cc5c99",
   "metadata": {},
   "source": [
    "Now set up the data ready for plotting. You will need to create an array with the mass coordinates and an array for each isotope provided."
   ]
  },
  {
   "cell_type": "code",
   "execution_count": 12,
   "id": "76891073",
   "metadata": {},
   "outputs": [],
   "source": [
    "# setup data for plot\n",
    "iso_list = header.split()[2:9]\n",
    "mass = [float(data[i].split()[0]) for i in range(len(data))]\n",
    "iso_abund = []\n",
    "for j in range(len(iso_list)):\n",
    "    dum = [float(data[i].split()[j+1]) for i in range(len(data))]\n",
    "    iso_abund.append(dum)"
   ]
  },
  {
   "cell_type": "markdown",
   "id": "d8bdb833",
   "metadata": {},
   "source": [
    "Now, check that the arrays that you created are correct. Do they make sense? How would you check? You will notice that the mass coordinates will not start from zero. Where do the mass coordinates start? What is happening to the deeper material?\n",
    "\n",
    "\n"
   ]
  },
  {
   "cell_type": "code",
   "execution_count": 13,
   "id": "dfa81e92",
   "metadata": {},
   "outputs": [
    {
     "name": "stdout",
     "output_type": "stream",
     "text": [
      "masscut= 1.610542 Msun\n"
     ]
    }
   ],
   "source": [
    "print('masscut=',min(mass),'Msun')"
   ]
  },
  {
   "cell_type": "markdown",
   "id": "83ad1c3e",
   "metadata": {},
   "source": [
    "Make a plot of the abundance, X (mass fraction) versus mass coordinates (in solar masses)"
   ]
  },
  {
   "cell_type": "code",
   "execution_count": 14,
   "id": "1dcba149",
   "metadata": {},
   "outputs": [
    {
     "data": {
      "image/png": "[encoded data removed]",
      "text/plain": [
       "<Figure size 432x288 with 1 Axes>"
      ]
     },
     "metadata": {
      "needs_background": "light"
     },
     "output_type": "display_data"
    }
   ],
   "source": [
    "ifig=121; plt.figure(ifig)\n",
    "\n",
    "symb = ['k-','m-','r-','b-','c-','g-','k--','m--','r--','b--','c--',\\\n",
    "        'k..','m--','r--','b--','c--']*5\n",
    "\n",
    "\n",
    "for i in range(len(iso_list)):\n",
    "    plt.semilogy(mass,iso_abund[i],symb[i],lw=2,label=iso_list[i])\n",
    "    \n",
    "plt.legend(loc='lower right')\n",
    "plt.xlim(min(mass),12); plt.ylim(1e-7,1.5)\n",
    "plt.xlabel('Mass coordinate Msun',fontsize=15); plt.ylabel('X',fontsize=15)\n",
    "plt.gcf().subplots_adjust(left=0.25)    \n",
    "\n",
    "plt.savefig('figure_test.pdf')\n",
    "plt.show()"
   ]
  },
  {
   "cell_type": "markdown",
   "id": "7caf3ef5",
   "metadata": {},
   "source": [
    "Oh! you got in the plot a onion-shell structure, but it is a bit different.. :)\n",
    "In the file, you have the abundances for the isotopes H, He4, C12, O16, Si28 and Ni56. \n",
    "Now calculate what is the abundance of these isotopes in the SN ejecta, in solar mass units. How would you do it? You have mass coordinates (in solar masses), and abundances in mass fraction. "
   ]
  },
  {
   "cell_type": "code",
   "execution_count": 15,
   "id": "7077e432",
   "metadata": {},
   "outputs": [
    {
     "name": "stdout",
     "output_type": "stream",
     "text": [
      "H-1    4.609672E+00 Msun\n",
      "He-4    4.193484E+00 Msun\n",
      "C-12    1.463858E-01 Msun\n",
      "N-14    4.204498E-02 Msun\n",
      "O-16    8.911354E-01 Msun\n",
      "Si-28    1.471293E-01 Msun\n",
      "Ni-56    2.553114E-02 Msun\n"
     ]
    }
   ],
   "source": [
    "# how many solar masses of isotope is ejected?\n",
    "#iso_ = 'H-1'#'Ni-56'\n",
    "# first I need to calculate dm\n",
    "dm = [mass[i]-mass[i-1] for i in range(1,len(mass))]; dm.append(dm[-1])\n",
    "#.. then summing up X*dm over range of ejecta\n",
    "for iso_ in iso_list:\n",
    "    print(iso_ , \\\n",
    "          str('%15.6E' % np.sum(np.array(iso_abund[iso_list.index(iso_)])*np.array(dm))),\\\n",
    "          'Msun')"
   ]
  },
  {
   "cell_type": "markdown",
   "id": "3c9442f6",
   "metadata": {},
   "source": [
    "What is the most abundant isotope among the ones considered? From the lecture, you may remember about Ni56. What do you know about the others?"
   ]
  },
  {
   "cell_type": "code",
   "execution_count": 16,
   "id": "f83f6e8c",
   "metadata": {},
   "outputs": [
    {
     "name": "stdout",
     "output_type": "stream",
     "text": [
      "Hydrogen is the most abundant\n"
     ]
    }
   ],
   "source": [
    "print(\"Hydrogen is the most abundant\")"
   ]
  },
  {
   "cell_type": "code",
   "execution_count": null,
   "id": "cad527e4",
   "metadata": {},
   "outputs": [],
   "source": []
  }
 ],
 "metadata": {
  "kernelspec": {
   "display_name": "Python 3 (ipykernel)",
   "language": "python",
   "name": "python3"
  },
  "language_info": {
   "codemirror_mode": {
    "name": "ipython",
    "version": 3
   },
   "file_extension": ".py",
   "mimetype": "text/x-python",
   "name": "python",
   "nbconvert_exporter": "python",
   "pygments_lexer": "ipython3",
   "version": "3.9.5"
  }
 },
 "nbformat": 4,
 "nbformat_minor": 5
}
